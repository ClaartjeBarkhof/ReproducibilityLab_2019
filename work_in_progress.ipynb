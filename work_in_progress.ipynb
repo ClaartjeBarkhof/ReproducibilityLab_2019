{
 "cells": [
  {
   "cell_type": "code",
   "execution_count": 108,
   "metadata": {},
   "outputs": [],
   "source": [
    "import torch.nn as nn\n",
    "import torch \n",
    "import random \n",
    "import gym\n",
    "from torch import optim\n",
    "import numpy as np\n",
    "import matplotlib.pyplot as plt\n",
    "\n",
    "from actor_critic import ActorCritic\n",
    "\n",
    "\n",
    "def run_episodes_policy_gradient(env, num_episodes, max_steps, discount_factor, learn_rate, n_hidden=256):\n",
    "    \n",
    "    n_state_features = len(env.reset())\n",
    "    n_actions = env.action_space.n\n",
    "    \n",
    "    model =  ActorCritic(n_state_features, n_actions, n_hidden)\n",
    "    \n",
    "    optimizer = optim.Adam(model.parameters(), learn_rate)\n",
    "    \n",
    "    episode_durations = []\n",
    "\n",
    "    # loop for each episode\n",
    "    for episode in range(num_episodes):\n",
    "        \n",
    "        # initialize S (first state of episode)\n",
    "        s = env.reset()\n",
    "        I = 1\n",
    "        step = 0\n",
    "        \n",
    "        while True:\n",
    "            \n",
    "            optimizer.zero_grad()\n",
    "            \n",
    "            v_s, pi_s_a = model.forward(s)\n",
    "            \n",
    "            # select action\n",
    "            a = torch.multinomial(torch.exp(pi_s_a), 1).item()  \n",
    "            log_prob = torch.log(pi_s_a.squeeze(0)[a])\n",
    "            \n",
    "            # take action\n",
    "            s_new, r, done, _ = env.step(a)\n",
    "            \n",
    "            # compute delta \n",
    "            v_s_new = 0 \n",
    "            if not done:\n",
    "                v_s_new, _ = model.forward(s_new)\n",
    "                v_s_new = v_s_new.item() \n",
    "            delta = r + gamma * v_s_new - v_s.item()\n",
    "            \n",
    "            # from another github where the whole thing works:\n",
    "            # adv = r - v_s.item()\n",
    "            # loss_a = -log_prob * adv\n",
    "            # loss_c = torch.nn.functional.smooth_l1_loss(v_s, torch.Tensor([r]).float())\n",
    "            \n",
    "            # compute gradient\n",
    "            loss_a =  - delta * I * log_prob\n",
    "            loss_c =  delta * v_s # should this be negative or positive?\n",
    "            loss = loss_a + loss_c\n",
    "            \n",
    "            # backprop\n",
    "            loss.backward()\n",
    "            optimizer.step()\n",
    "            \n",
    "            I = discount_factor*I\n",
    "            s = s_new\n",
    "            step += 1\n",
    "            \n",
    "            # until s is a terminal state or we used the max steps\n",
    "            if done or step > max_steps:\n",
    "                break\n",
    "            \n",
    "        if episode % 10 == 0:\n",
    "            #print(\"E{0}- Steps:{1} Loss:{2}\".format(episode, step, loss))\n",
    "            pass\n",
    "                  \n",
    "        episode_durations.append(step)\n",
    "        \n",
    "    return episode_durations\n",
    "\n"
   ]
  },
  {
   "cell_type": "markdown",
   "metadata": {},
   "source": [
    "Loop for each step of the episode $t=0,1, \\ldots, T-1:$\n",
    "$$\n",
    "\\begin{array}{l}{G \\leftarrow \\sum_{k=t+1}^{T} \\gamma^{k-t-1} R_{k}} \\\\ {\\boldsymbol{\\theta} \\leftarrow \\boldsymbol{\\theta}+\\alpha \\gamma^{t} G \\nabla \\ln \\pi\\left(A_{t} | S_{t}, \\boldsymbol{\\theta}\\right)}\\end{array}\n",
    "$$\n",
    "* The REINFORCE loss is defined as $- \\sum_t \\log \\pi_\\theta(a_t|s_t) G_t$, which means that you should compute the (discounted) return $G_t$ for all $t$\n",
    "\n",
    "\n",
    "\n",
    "Here we have\n",
    "Take action $A,$ observe $S^{\\prime}, R$ \n",
    "$$\n",
    "\\delta \\leftarrow R+\\gamma \\hat{v}\\left(S^{\\prime}, \\mathbf{w}\\right)-\\hat{v}(S, \\mathbf{w}) \\\\\n",
    "\\mathbf{w} \\leftarrow \\mathbf{w}+\\alpha^{\\mathbf{w}} \\delta \\nabla \\hat{v}(S, \\mathbf{w}) \\\\ \\boldsymbol{\\theta} \\leftarrow \\boldsymbol{\\theta}+\\alpha^{\\boldsymbol{\\theta}} I \\delta \\nabla \\ln \\pi(A | S, \\boldsymbol{\\theta})\n",
    "$$"
   ]
  },
  {
   "cell_type": "code",
   "execution_count": 114,
   "metadata": {},
   "outputs": [
    {
     "data": {
      "text/plain": [
       "<matplotlib.legend.Legend at 0x7f06568eecc0>"
      ]
     },
     "execution_count": 114,
     "metadata": {},
     "output_type": "execute_result"
    },
    {
     "data": {
      "image/png": "[encoded data removed]",
      "text/plain": [
       "<Figure size 432x288 with 1 Axes>"
      ]
     },
     "metadata": {
      "needs_background": "light"
     },
     "output_type": "display_data"
    }
   ],
   "source": [
    "def smooth(x, N):\n",
    "    cumsum = np.cumsum(np.insert(x, 0, 0)) \n",
    "    return (cumsum[N:] - cumsum[:-N]) / float(N)\n",
    "\n",
    "num_episodes = 200\n",
    "discount_factor = 0.99\n",
    "learn_rate = 0.01\n",
    "seed = 42\n",
    "random.seed(seed)\n",
    "torch.manual_seed(seed)\n",
    "\n",
    "env = gym.envs.make(\"CartPole-v0\")\n",
    "env.seed(seed)\n",
    "\n",
    "gamma = .99\n",
    "lr = 3e-2\n",
    "num_episodes = 200\n",
    "max_steps =  300 # max steps per episode\n",
    "\n",
    "episode_durations_policy_gradient = run_episodes_policy_gradient(env, \n",
    "                                                                 num_episodes, \n",
    "                                                                 max_steps,\n",
    "                                                                 discount_factor, \n",
    "                                                                 learn_rate,\n",
    "                                                                 n_hidden=256)\n",
    "plt.plot(smooth(episode_durations_policy_gradient, 20))\n",
    "plt.title('Episode durations per episode')\n",
    "plt.legend(['Policy gradient'])"
   ]
  },
  {
   "cell_type": "code",
   "execution_count": null,
   "metadata": {},
   "outputs": [],
   "source": []
  },
  {
   "cell_type": "code",
   "execution_count": null,
   "metadata": {},
   "outputs": [],
   "source": []
  },
  {
   "cell_type": "code",
   "execution_count": null,
   "metadata": {},
   "outputs": [],
   "source": []
  },
  {
   "cell_type": "code",
   "execution_count": null,
   "metadata": {},
   "outputs": [],
   "source": []
  },
  {
   "cell_type": "code",
   "execution_count": null,
   "metadata": {},
   "outputs": [],
   "source": []
  },
  {
   "cell_type": "code",
   "execution_count": null,
   "metadata": {},
   "outputs": [],
   "source": []
  },
  {
   "cell_type": "code",
   "execution_count": null,
   "metadata": {},
   "outputs": [],
   "source": []
  },
  {
   "cell_type": "code",
   "execution_count": null,
   "metadata": {},
   "outputs": [],
   "source": []
  },
  {
   "cell_type": "code",
   "execution_count": null,
   "metadata": {},
   "outputs": [],
   "source": []
  },
  {
   "cell_type": "code",
   "execution_count": null,
   "metadata": {},
   "outputs": [],
   "source": []
  },
  {
   "cell_type": "code",
   "execution_count": null,
   "metadata": {},
   "outputs": [],
   "source": []
  }
 ],
 "metadata": {
  "kernelspec": {
   "display_name": "Python 3",
   "language": "python",
   "name": "python3"
  },
  "language_info": {
   "codemirror_mode": {
    "name": "ipython",
    "version": 3
   },
   "file_extension": ".py",
   "mimetype": "text/x-python",
   "name": "python",
   "nbconvert_exporter": "python",
   "pygments_lexer": "ipython3",
   "version": "3.7.3"
  }
 },
 "nbformat": 4,
 "nbformat_minor": 2
}
